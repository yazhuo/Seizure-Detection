{
 "cells": [
  {
   "cell_type": "markdown",
   "metadata": {},
   "source": [
    "# Random Forests for seizure detection\n",
    "\n",
    "### Reference papers\n",
    "\n",
    "* Mursalin et al. (2017). Automated epileptic seizure detection using improved correlation-based feature selection with random forest classifier. Neurocomputing, ISSN: 0925-2312, Vol: 241, Page: 204-214. https://www3.nd.edu/~dial/publications/mursalin2017automated.pdf\n",
    "\n",
    "\n",
    "* Wang, X., Gong, G., Li, N., & Qiu, S. (2019). Detection Analysis of Epileptic EEG Using a Novel Random Forest Model Combined With Grid Search Optimization. Frontiers in human neuroscience, 13, 52. https://doi.org/10.3389/fnhum.2019.00052 or https://www.ncbi.nlm.nih.gov/pmc/articles/PMC6393755/\n"
   ]
  },
  {
   "cell_type": "code",
   "execution_count": 1,
   "metadata": {},
   "outputs": [
    {
     "name": "stderr",
     "output_type": "stream",
     "text": [
      "Using TensorFlow backend.\n"
     ]
    }
   ],
   "source": [
    "import os\n",
    "import struct\n",
    "import random\n",
    "import keras\n",
    "import math\n",
    "import pandas as pd\n",
    "import numpy as np\n",
    "from random import shuffle\n",
    "import matplotlib.pyplot as plt\n",
    "plt.rcParams['figure.figsize'] = (10, 8) # Make the default figures a bit bigger\n",
    "%matplotlib inline\n",
    "np.random.seed(42)\n",
    "random.seed(42)\n",
    "\n",
    "# sklearn packages\n",
    "from sklearn.preprocessing import MinMaxScaler\n",
    "from sklearn.model_selection import cross_val_score, KFold, GridSearchCV\n",
    "from sklearn.metrics import f1_score, precision_score, confusion_matrix, recall_score\n",
    "from sklearn.metrics import plot_confusion_matrix\n",
    "from sklearn.metrics import accuracy_score, roc_curve, auc, roc_auc_score, classification_report\n",
    "from sklearn.model_selection import train_test_split\n",
    "\n",
    "# models\n",
    "from sklearn.svm import SVC\n",
    "from xgboost import XGBClassifier, XGBRegressor  \n",
    "from sklearn.tree import DecisionTreeClassifier\n",
    "from sklearn.linear_model import LogisticRegression\n",
    "from sklearn.ensemble import RandomForestClassifier, ExtraTreesClassifier, AdaBoostClassifier\n",
    "\n",
    "import warnings\n",
    "warnings.filterwarnings(\"ignore\")"
   ]
  },
  {
   "cell_type": "markdown",
   "metadata": {},
   "source": [
    "### Helper Functions"
   ]
  },
  {
   "cell_type": "code",
   "execution_count": 2,
   "metadata": {},
   "outputs": [],
   "source": [
    "def convert_data(file1, file2):\n",
    "    df_ictal = pd.read_csv(file1,index_col=0).drop(columns=['filenames','labels'])\n",
    "    df_interictal = pd.read_csv(file2, index_col=0).drop(columns=['filenames','labels'])\n",
    "    num_feature = df_ictal.shape[1]\n",
    "    num_ictal = df_ictal.shape[0]\n",
    "    num_interictal = df_interictal.shape[0]\n",
    "    #print(num_feature, num_ictal, num_interictal)\n",
    "    n = num_ictal + num_interictal\n",
    "\n",
    "    np_ictal = np.array(df_ictal)\n",
    "    np_interictal = np.array(df_interictal)\n",
    "    train_data = np.concatenate((np_ictal, np_interictal), axis=0)\n",
    "    print(\"Train data shape: \", train_data.shape)\n",
    "    \n",
    "    label0 = [0 for i in range(num_ictal)]\n",
    "    label1 = [1 for i in range(num_interictal)]\n",
    "    np_label0 = np.array(label0)\n",
    "    np_label1 = np.array(label1)\n",
    "    label_data = np.concatenate((np_label0, np_label1), axis=0)\n",
    "    print(\"Label data shape: \", label_data.shape)\n",
    "\n",
    "    scaler = MinMaxScaler(feature_range=(0,1))\n",
    "    scaled_train_data = scaler.fit_transform(train_data)\n",
    "\n",
    "    return scaled_train_data, label_data"
   ]
  },
  {
   "cell_type": "code",
   "execution_count": 3,
   "metadata": {},
   "outputs": [],
   "source": [
    "# helper function to print performance metrics\n",
    "def get_performance_metrics(model, test_features, test_labels):\n",
    "    \"\"\"\n",
    "    Evaluate the trained model and give accuracy, precision, and recall score.\n",
    "    @model: trained RandomForestClassifier\n",
    "    @test_features: test set for prediction\n",
    "    @test_labels: ground truth\n",
    "    @return: accuracy score\n",
    "    \"\"\"\n",
    "    predictions = model.predict(test_features)\n",
    "    trues = list(np.hstack(test_labels))\n",
    "    accuracy = 100*accuracy_score(predictions, trues)\n",
    "    precision = 100*precision_score(predictions, trues)\n",
    "    recall = 100*recall_score(predictions, trues)\n",
    "    f1 = 100*f1_score(predictions, trues)\n",
    "    \n",
    "    # Compute probabilities for each class\n",
    "    probabilities = model.predict_proba(test_features)[:, 1] \n",
    "    \n",
    "    # Calculate roc auc\n",
    "    model_roc_value = 100*roc_auc_score(test_labels, probabilities)\n",
    "    \n",
    "    # Compute AUC score\n",
    "    fpr, tpr, thresholds = roc_curve(predictions, trues)\n",
    "    auc_score = 100*auc(fpr, tpr)\n",
    "    \n",
    "    print('=== Performance Metrics ===')\n",
    "    print('Accuracy: {:0.2f}%.'.format(accuracy))\n",
    "    print('Precision: {:0.2f}%'.format(precision))\n",
    "    print('Recall: {:0.2f}%'.format(recall))\n",
    "    print('F1-score: {:0.2f}%'.format(f1))\n",
    "    print('ROC score: {:0.2f}%'.format(model_roc_value))\n",
    "    print('AUC score: {:0.2f}%'.format(auc_score))\n",
    "    return accuracy, probabilities"
   ]
  },
  {
   "cell_type": "code",
   "execution_count": 4,
   "metadata": {},
   "outputs": [],
   "source": [
    "# Plot confusion matrix with and without normalization\n",
    "def plot_confusion(model, cm=plt.cm.Blues):\n",
    "    titles_options = [(\"Confusion matrix, without normalization\", None),\n",
    "                      (\"Normalized confusion matrix\", 'true')]\n",
    "    for title, normalize in titles_options:\n",
    "        disp = plot_confusion_matrix(model, X_test, y_test,\n",
    "                                     cmap=cm,\n",
    "                                     normalize=normalize)\n",
    "        disp.ax_.set_title(title)\n",
    "\n",
    "        print(title)\n",
    "        print(disp.confusion_matrix)\n",
    "        print('\\n')\n",
    "    plt.show()"
   ]
  },
  {
   "cell_type": "code",
   "execution_count": 5,
   "metadata": {},
   "outputs": [],
   "source": [
    "# calculate roc curves\n",
    "def plot_roc_curve(y_test, probabilities, model_name):\n",
    "    # generate a no skill prediction (majority class)\n",
    "    ns_probs = [0 for _ in range(len(y_test))]\n",
    "\n",
    "    # keep probabilities for the positive outcome only\n",
    "    lr_probs = probabilities\n",
    "\n",
    "    # calculate scores\n",
    "    ns_auc = roc_auc_score(y_test, ns_probs)\n",
    "    lr_auc = roc_auc_score(y_test, lr_probs)\n",
    "\n",
    "    # summarize scores\n",
    "    print('No Skill: ROC AUC=%.3f' % (ns_auc))\n",
    "    print('Random Forest: ROC AUC=%.3f' % (lr_auc))\n",
    "\n",
    "    # calculate roc curves\n",
    "    ns_fpr, ns_tpr, _ = roc_curve(y_test, ns_probs)\n",
    "    lr_fpr, lr_tpr, _ = roc_curve(y_test, lr_probs)\n",
    "\n",
    "    # plot the roc curve for the model\n",
    "    plt.plot(ns_fpr, ns_tpr, linestyle='--', label='No Skill')\n",
    "    plt.plot(lr_fpr, lr_tpr, marker='.', label=model_name)\n",
    "\n",
    "    # axis labels\n",
    "    plt.xlabel('False Positive Rate')\n",
    "    plt.ylabel('True Positive Rate')\n",
    "\n",
    "    plt.title(\"ROC Curve: %s\" % model_name)\n",
    "    # show the legend\n",
    "    plt.legend()\n",
    "    # show the plot\n",
    "    plt.show()"
   ]
  },
  {
   "cell_type": "code",
   "execution_count": 6,
   "metadata": {},
   "outputs": [],
   "source": [
    "def plot_cv_roc_curve(fprs, tprs, model_name):\n",
    "    \"\"\"Plot the Receiver Operating Characteristic from a list\n",
    "    of true positive rates and false positive rates.\"\"\"\n",
    "    \n",
    "    # Initialize useful lists + the plot axes.\n",
    "    tprs_interp = []\n",
    "    aucs = []\n",
    "    mean_fpr = np.linspace(0, 1, 100)\n",
    "    f, ax = plt.subplots(figsize=(10,6))\n",
    "    \n",
    "    # Plot ROC for each K-Fold + compute AUC scores.\n",
    "    for i, (fpr, tpr) in enumerate(zip(fprs, tprs)):\n",
    "        tprs_interp.append(np.interp(mean_fpr, fpr, tpr))\n",
    "        tprs_interp[-1][0] = 0.0\n",
    "        roc_auc = auc(fpr, tpr)\n",
    "        aucs.append(roc_auc)\n",
    "        ax.plot(fpr, tpr, lw=1, marker='.',\n",
    "                 label='ROC fold %d (AUC = %0.2f)' % (i+1, roc_auc))\n",
    "        \n",
    "    # Plot the luck line.\n",
    "    plt.plot([0, 1], [0, 1], linestyle='--', label='No skill')\n",
    "    \n",
    "    # Plot the mean ROC.\n",
    "    mean_tpr = np.mean(tprs_interp, axis=0)\n",
    "    mean_tpr[-1] = 1.0\n",
    "    mean_auc = auc(mean_fpr, mean_tpr)\n",
    "    std_auc = np.std(aucs)\n",
    "    ax.plot(mean_fpr, mean_tpr, color='b',\n",
    "             label=r'Mean ROC (AUC = %0.2f $\\pm$ %0.2f)' % (mean_auc, std_auc),\n",
    "             lw=2, alpha=.8)\n",
    "    \n",
    "    # Plot the standard deviation around the mean ROC.\n",
    "    std_tpr = np.std(tprs_interp, axis=0)\n",
    "    tprs_upper = np.minimum(mean_tpr + std_tpr, 1)\n",
    "    tprs_lower = np.maximum(mean_tpr - std_tpr, 0)\n",
    "    ax.fill_between(mean_fpr, tprs_lower, tprs_upper, color='grey', alpha=.2,\n",
    "                     label=r'$\\pm$ 1 std. dev.')\n",
    "    \n",
    "    # Fine tune and show the plot.\n",
    "    ax.set_xlim([-0.05, 1.05])\n",
    "    ax.set_ylim([-0.05, 1.05])\n",
    "    ax.set_xlabel('False Positive Rate')\n",
    "    ax.set_ylabel('True Positive Rate')\n",
    "    ax.legend(loc=\"lower right\")\n",
    "\n",
    "#     plt.legend(bbox_to_anchor=(1.05, 1.0), loc='upper left')\n",
    "#     plt.tight_layout()\n",
    "    plt.title(\"ROC Curve: %s\" % model_name)\n",
    "    plt.show()\n",
    "    return (f, ax)\n",
    "\n",
    "def compute_roc_auc(model, index):\n",
    "    y_predict = model.predict_proba(X_train[index])[:,1]\n",
    "    fpr, tpr, thresholds = roc_curve(y_train[index], y_predict)\n",
    "    auc_score = auc(fpr, tpr)\n",
    "    return fpr, tpr, auc_score"
   ]
  },
  {
   "cell_type": "markdown",
   "metadata": {},
   "source": [
    "### Load the data"
   ]
  },
  {
   "cell_type": "code",
   "execution_count": 7,
   "metadata": {},
   "outputs": [
    {
     "name": "stdout",
     "output_type": "stream",
     "text": [
      "/Users/malvernmadondo/Downloads/Emory/spring20/ml/seizure_dataset/revised_dataset_features\n"
     ]
    }
   ],
   "source": [
    "# load data\n",
    "os.chdir('/Users/malvernmadondo/Downloads/Emory/spring20/ml/seizure_dataset/revised_dataset_features')\n",
    "cwd = os.getcwd()\n",
    "print(cwd)"
   ]
  },
  {
   "cell_type": "code",
   "execution_count": 8,
   "metadata": {},
   "outputs": [],
   "source": [
    "# Subject: Dogs\n",
    "dog1_ictal = 'dog1_ictal_data.csv'\n",
    "dog2_ictal = 'dog2_ictal_data.csv'\n",
    "dog3_ictal = 'dog3_ictal_data.csv'\n",
    "dog4_ictal = 'dog4_ictal_data.csv'\n",
    "dogs_234_ictal = 'dogs_234_ictal_data.csv'\n",
    "all_dogs_ictal = \"Revised_train_Dog_ictal_data_v1.csv\"\n",
    "\n",
    "# interictal data\n",
    "dog1_interictal = 'Dog1_interictal_data.csv'\n",
    "dog2_interictal = 'Dog2_interictal_data.csv'\n",
    "dog3_interictal = 'Dog3_interictal_data.csv'\n",
    "dog4_interictal = 'Dog4_interictal_data.csv'\n",
    "dogs_234_interictal = 'Dogs_234_interictal_data.csv'\n",
    "all_dogs_interictal = 'Revised_train_Dog_interictal_data_v1.csv'"
   ]
  },
  {
   "cell_type": "code",
   "execution_count": 9,
   "metadata": {},
   "outputs": [
    {
     "name": "stdout",
     "output_type": "stream",
     "text": [
      "Train data shape:  (596, 800)\n",
      "Label data shape:  (596,)\n",
      "Train data shape:  (1320, 800)\n",
      "Label data shape:  (1320,)\n",
      "Train data shape:  (5240, 800)\n",
      "Label data shape:  (5240,)\n",
      "Train data shape:  (3047, 800)\n",
      "Label data shape:  (3047,)\n",
      "Train data shape:  (9607, 800)\n",
      "Label data shape:  (9607,)\n",
      "Train data shape:  (10203, 800)\n",
      "Label data shape:  (10203,)\n"
     ]
    }
   ],
   "source": [
    "# dog 1 data\n",
    "dog1_scaled_train_data, dog1_train_label = convert_data(dog1_ictal, dog1_interictal)\n",
    "\n",
    "# dog 2 data\n",
    "dog2_scaled_train_data, dog2_train_label = convert_data(dog2_ictal, dog2_interictal)\n",
    "\n",
    "# dog 3 data\n",
    "dog3_scaled_train_data, dog3_train_label = convert_data(dog3_ictal, dog3_interictal)\n",
    "\n",
    "# dog 4 data\n",
    "dog4_scaled_train_data, dog4_train_label = convert_data(dog4_ictal, dog4_interictal)\n",
    "\n",
    "# dog 234 data\n",
    "dog234_scaled_train_data, dog234_train_label = convert_data(dogs_234_ictal, dogs_234_interictal)\n",
    "\n",
    "# qll dogs data\n",
    "scaled_train_data, train_label = convert_data(all_dogs_ictal, all_dogs_interictal)"
   ]
  },
  {
   "cell_type": "code",
   "execution_count": 10,
   "metadata": {},
   "outputs": [],
   "source": [
    "# all dogs\n",
    "# X_train, X_test, y_train, y_test = train_test_split(scaled_train_data, train_label, train_size = 0.8)\n",
    "# print(\"X_train data shape: \", X_train.shape)\n",
    "# print(\"y_train data shape: \", y_train.shape)\n",
    "# print(\"X_test data shape: \", X_test.shape)\n",
    "# print(\"y_test data shape: \", y_test.shape)"
   ]
  },
  {
   "cell_type": "code",
   "execution_count": 10,
   "metadata": {},
   "outputs": [
    {
     "name": "stdout",
     "output_type": "stream",
     "text": [
      "X_train data shape:  (9607, 800)\n",
      "y_train data shape:  (9607,)\n",
      "X_test data shape:  (596, 800)\n",
      "y_test data shape:  (596,)\n"
     ]
    }
   ],
   "source": [
    "# dogs 234 and using 1 as test\n",
    "X_train = dog234_scaled_train_data\n",
    "y_train = dog234_train_label\n",
    "X_test = dog1_scaled_train_data\n",
    "y_test = dog1_train_label\n",
    "\n",
    "print(\"X_train data shape: \", X_train.shape)\n",
    "print(\"y_train data shape: \", y_train.shape)\n",
    "print(\"X_test data shape: \", X_test.shape)\n",
    "print(\"y_test data shape: \", y_test.shape)"
   ]
  },
  {
   "cell_type": "code",
   "execution_count": 20,
   "metadata": {},
   "outputs": [
    {
     "name": "stdout",
     "output_type": "stream",
     "text": [
      "X_train data shape:  (4192, 800)\n",
      "y_train data shape:  (4192,)\n",
      "X_test data shape:  (1048, 800)\n",
      "y_test data shape:  (1048,)\n"
     ]
    }
   ],
   "source": [
    "# specific dog X hakuna \n",
    "X_train, X_test, y_train, y_test = train_test_split(dog3_scaled_train_data, dog3_train_label, train_size = 0.8)\n",
    "print(\"X_train data shape: \", X_train.shape)\n",
    "print(\"y_train data shape: \", y_train.shape)\n",
    "print(\"X_test data shape: \", X_test.shape)\n",
    "print(\"y_test data shape: \", y_test.shape)"
   ]
  },
  {
   "cell_type": "markdown",
   "metadata": {},
   "source": [
    "### Load human data"
   ]
  },
  {
   "cell_type": "code",
   "execution_count": 11,
   "metadata": {},
   "outputs": [],
   "source": [
    "p1_ictal = \"Revised_train_Patient_1_ictal_data_v1.csv\"\n",
    "p1_interictal =\"Revised_train_Patient_1_interictal_data_v1.csv\"\n",
    "\n",
    "p2_ictal =\"Revised_train_Patient_2_ictal_data_v1.csv\"\n",
    "p2_interictal =\"Revised_train_Patient_2_interictal_data_v1.csv\"\n",
    "\n",
    "p3_ictal =\"Revised_train_Patient_3_ictal_data_v1.csv\"\n",
    "p3_interictal =\"Revised_train_Patient_3_interictal_data_v1.csv\"\n",
    "\n",
    "p4_ictal =\"Revised_train_Patient_4_ictal_data_v1.csv\"\n",
    "p4_interictal =\"Revised_train_Patient_4_interictal_data_v1.csv\"\n",
    "\n",
    "p5_ictal = \"Revised_train_Patient_5_ictal_data_v1.csv\"\n",
    "p5_interictal = \"Revised_train_Patient_5_interictal_data_v1.csv\"\n",
    "\n",
    "p6_ictal =\"Revised_train_Patient_6_ictal_data_v1.csv\"\n",
    "p6_interictal =\"Revised_train_Patient_6_interictal_data_v1.csv\"\n",
    "\n",
    "p7_ictal = \"Revised_train_Patient_7_ictal_data_v1.csv\"\n",
    "p7_interictal = \"Revised_train_Patient_7_interictal_data_v1.csv\"\n",
    "\n",
    "p8_ictal =\"Revised_train_Patient_8_ictal_data_v1.csv\"\n",
    "p8_interictal =\"Revised_train_Patient_8_interictal_data_v1.csv\""
   ]
  },
  {
   "cell_type": "code",
   "execution_count": 12,
   "metadata": {},
   "outputs": [
    {
     "name": "stdout",
     "output_type": "stream",
     "text": [
      "Train data shape:  (174, 3400)\n",
      "Label data shape:  (174,)\n",
      "Train data shape:  (3141, 800)\n",
      "Label data shape:  (3141,)\n",
      "Train data shape:  (1041, 2750)\n",
      "Label data shape:  (1041,)\n",
      "Train data shape:  (210, 3600)\n",
      "Label data shape:  (210,)\n",
      "Train data shape:  (2745, 3200)\n",
      "Label data shape:  (2745,)\n",
      "Train data shape:  (2997, 1500)\n",
      "Label data shape:  (2997,)\n",
      "Train data shape:  (3521, 1800)\n",
      "Label data shape:  (3521,)\n",
      "Train data shape:  (1890, 800)\n",
      "Label data shape:  (1890,)\n"
     ]
    }
   ],
   "source": [
    "# transform the data with Scaler\n",
    "\n",
    "# patient 1 data\n",
    "p1_scaled_train_data, p1_train_label = convert_data(p1_ictal, p1_interictal)\n",
    "\n",
    "# patient 2 data\n",
    "p2_scaled_train_data, p2_train_label = convert_data(p2_ictal, p2_interictal)\n",
    "\n",
    "# patient 3 data\n",
    "p3_scaled_train_data, p3_train_label = convert_data(p3_ictal, p3_interictal)\n",
    "\n",
    "# patient 4 data\n",
    "p4_scaled_train_data, p4_train_label = convert_data(p4_ictal, p4_interictal)\n",
    "\n",
    "# patient 5 data\n",
    "p5_scaled_train_data, p5_train_label = convert_data(p5_ictal, p5_interictal)\n",
    "\n",
    "# patient 6 data\n",
    "p6_scaled_train_data, p6_train_label = convert_data(p6_ictal, p6_interictal)\n",
    "\n",
    "# patient 7 data\n",
    "p7_scaled_train_data, p7_train_label = convert_data(p7_ictal, p7_interictal)\n",
    "\n",
    "# patient 8 data\n",
    "p8_scaled_train_data, p8_train_label = convert_data(p8_ictal, p8_interictal)"
   ]
  },
  {
   "cell_type": "code",
   "execution_count": 219,
   "metadata": {},
   "outputs": [
    {
     "name": "stdout",
     "output_type": "stream",
     "text": [
      "X_train data shape:  (1512, 800)\n",
      "y_train data shape:  (1512,)\n",
      "X_test data shape:  (378, 800)\n",
      "y_test data shape:  (378,)\n"
     ]
    }
   ],
   "source": [
    "# specific dog X hakuna \n",
    "X_train, X_test, y_train, y_test = train_test_split(p8_scaled_train_data, p8_train_label, train_size = 0.8)\n",
    "print(\"X_train data shape: \", X_train.shape)\n",
    "print(\"y_train data shape: \", y_train.shape)\n",
    "print(\"X_test data shape: \", X_test.shape)\n",
    "print(\"y_test data shape: \", y_test.shape)"
   ]
  },
  {
   "cell_type": "markdown",
   "metadata": {},
   "source": [
    "### Baseline Model"
   ]
  },
  {
   "cell_type": "code",
   "execution_count": 21,
   "metadata": {},
   "outputs": [
    {
     "data": {
      "text/plain": [
       "LogisticRegression(C=1.0, class_weight=None, dual=False, fit_intercept=True,\n",
       "                   intercept_scaling=1, l1_ratio=None, max_iter=100,\n",
       "                   multi_class='auto', n_jobs=None, penalty='l2',\n",
       "                   random_state=None, solver='saga', tol=0.0001, verbose=0,\n",
       "                   warm_start=False)"
      ]
     },
     "execution_count": 21,
     "metadata": {},
     "output_type": "execute_result"
    }
   ],
   "source": [
    "# fit the model\n",
    "baseline = LogisticRegression(solver='saga')\n",
    "baseline.fit(X_train, y_train.ravel())"
   ]
  },
  {
   "cell_type": "code",
   "execution_count": 22,
   "metadata": {},
   "outputs": [
    {
     "name": "stdout",
     "output_type": "stream",
     "text": [
      "=== Performance Metrics ===\n",
      "Accuracy: 98.85%.\n",
      "Precision: 99.89%\n",
      "Recall: 98.86%\n",
      "F1-score: 99.37%\n",
      "ROC score: 99.95%\n",
      "AUC score: 98.85%\n",
      "\n",
      "=== Classification Report ===\n",
      "              precision    recall  f1-score   support\n",
      "\n",
      "           0       0.99      0.89      0.93        97\n",
      "           1       0.99      1.00      0.99       951\n",
      "\n",
      "    accuracy                           0.99      1048\n",
      "   macro avg       0.99      0.94      0.96      1048\n",
      "weighted avg       0.99      0.99      0.99      1048\n",
      "\n",
      "\n",
      "=== All AUC Scores ===\n",
      "[0.99925971 0.99138569 0.99067551 0.9948888  0.99060644 0.99481973\n",
      " 0.99778975 0.99806603 0.97527283 0.99109312]\n",
      "\n",
      "=== Mean AUC Score ===\n",
      "Mean AUC Score - Random Forest:  0.9923857594723737\n",
      "\n",
      "=== STD AUC Score ===\n",
      "STD AUC Score - Random Forest:  0.006500181520264138\n"
     ]
    }
   ],
   "source": [
    "# Actual class predictions\n",
    "baseline_pred = baseline.predict(X_test)\n",
    "\n",
    "# compute cv accuracies\n",
    "baseline_accuracies = cross_val_score(estimator=baseline, X=X_train, y=y_train, cv=10, scoring='roc_auc')\n",
    "\n",
    "# performance metrics\n",
    "baseline_accuracy, baseline_probabilites = get_performance_metrics(baseline, X_test, y_test)\n",
    "\n",
    "print(\"\\n=== Classification Report ===\")\n",
    "print(classification_report(y_test, baseline_pred))\n",
    "\n",
    "print(\"\\n=== All AUC Scores ===\")\n",
    "print(baseline_accuracies)\n",
    "\n",
    "print(\"\\n=== Mean AUC Score ===\")\n",
    "print(\"Mean AUC Score - Random Forest: \", baseline_accuracies.mean())\n",
    "\n",
    "print(\"\\n=== STD AUC Score ===\")\n",
    "print(\"STD AUC Score - Random Forest: \", baseline_accuracies.std())"
   ]
  },
  {
   "cell_type": "code",
   "execution_count": 23,
   "metadata": {},
   "outputs": [
    {
     "name": "stdout",
     "output_type": "stream",
     "text": [
      "Confusion matrix, without normalization\n",
      "[[ 86  11]\n",
      " [  1 950]]\n",
      "\n",
      "\n",
      "Normalized confusion matrix\n",
      "[[0.88659794 0.11340206]\n",
      " [0.00105152 0.99894848]]\n",
      "\n",
      "\n"
     ]
    },
    {
     "data": {
      "image/png": "[encoded data removed]",
      "text/plain": [
       "<Figure size 432x288 with 2 Axes>"
      ]
     },
     "metadata": {
      "needs_background": "light"
     },
     "output_type": "display_data"
    },
    {
     "data": {
      "image/png": "[encoded data removed]",
      "text/plain": [
       "<Figure size 432x288 with 2 Axes>"
      ]
     },
     "metadata": {
      "needs_background": "light"
     },
     "output_type": "display_data"
    }
   ],
   "source": [
    "# Plot confusion matrices\n",
    "plot_confusion(model=baseline, cm=plt.cm.YlOrRd)"
   ]
  },
  {
   "cell_type": "code",
   "execution_count": 24,
   "metadata": {},
   "outputs": [
    {
     "name": "stdout",
     "output_type": "stream",
     "text": [
      "No Skill: ROC AUC=0.500\n",
      "Random Forest: ROC AUC=1.000\n"
     ]
    },
    {
     "data": {
      "image/png": "[encoded data removed]",
      "text/plain": [
       "<Figure size 432x288 with 1 Axes>"
      ]
     },
     "metadata": {
      "needs_background": "light"
     },
     "output_type": "display_data"
    }
   ],
   "source": [
    "# https://machinelearningmastery.com/roc-curves-and-precision-recall-curves-for-classification-in-python/\n",
    "plot_roc_curve(y_test, probabilities=baseline_probabilites, model_name=\"Logistic Regression\")"
   ]
  },
  {
   "cell_type": "markdown",
   "metadata": {},
   "source": [
    "## Paper #1: Mursalin et al. (2017)\n",
    "\n",
    "**Summary**\n",
    "\n",
    "The main contribution of this paper lies on developing an automatic, efficient and scalable ICFS (*Improved Correlation-based Feature Selection*) based algorithm to detect the unpredictable occurrence of epileptic seizures in a reasonable time. In this work both time and frequency domain features are used to fed the proposed ICFS method which select the most prominent features for automatic seizure detection using a random forest classifier.\n",
    "\n",
    "**3.1. Dataset**\n",
    "\n",
    "The EEG database used in this study is developed by the Department of Epileptology, University of Bonn, Germany. The whole database consists of five EEG data sets (denoted as Set A -Set E). Each data set contains 100 single-channels and the duration of each channel is 23.6 s. There are 4097 data points in each channel. \n",
    "\n",
    "**3.2. Feature extraction**\n",
    "\n",
    "The authors classify the features into three separate categories: \n",
    "1. time domain features;\n",
    "2. frequency domain features (using Discrete wavelet transform);\n",
    "3. and entropy-based features (Sample entropy (SmpE) and Shannon entropy (SE)). The SmpE value is calculated directly from EEG data while SE value is calculated from DWT coefficients (for each and every sub-band).\n",
    "\n",
    "**3.3 Feature selection**\n",
    "\n",
    "Authors present a new approach to feature selection, called ICFS (Improved Correlation-based Feature Selection)\n",
    "that uses a correlation based heuristic to evaluate the utility of selected features. This approach seeks to improve the performance of conventional CFS method and select the minimum number of features from a large feature space.\n",
    "\n",
    "**3.4. Classification**\n",
    "\n",
    "* Using a Random Forest classifier as proposed by L. Breiman, *Random forests, Mach. Learn. 45 (1) (2001) 5–32*. The number of trees to be generated is 100 and the random seed is 1.\n",
    "\n",
    "**3.5 Cross-Validation design**\n",
    "\n",
    "* In order to reduce the bias of training and test data, this study proposes employing k-fold cross-validation technique considering k = 10.\n",
    "\n",
    "**3.6. Performance measurements**\n",
    "\n",
    "* sensitivity (proportion of the correctly classified ictal EEGs out of the total number of labeled ictal EEGs),\n",
    "\\begin{equation*}\n",
    "SEN = \\frac{TP}{TP + FN} * 100\\%\n",
    "\\end{equation*}\n",
    "\n",
    "\n",
    "* specificity (proportion of the correctly classified inter-ictal EEGs out of the total number of labeled inter-ictal EEGs)\n",
    "\\begin{equation*}\n",
    "SPE = \\frac{TN}{TN + FP} * 100\\% \n",
    "\\end{equation*}\n",
    "\n",
    "\n",
    "* classification accuracy (proportion of the correctly classified EEGs out of the total number of EEGs). \n",
    "\\begin{equation*}\n",
    "CA = \\frac{TN+TP}{TN + FN + TP+ FP} * 100\\%\n",
    "\\end{equation*}\n",
    "\n",
    "\n",
    "where, TP= True Positive, FN= False Negative, TN= True Negative,\n",
    "FP= False Positive, SEN= Sensitivity, SPE= Specificity, CA= Classification Accuracy\n",
    "\n",
    "**Results**\n",
    "\n",
    "All the 500 channels of EEG data sets are decomposed into different sub-bands using DWT of level four with fourth-order Daubechies (db4). \n"
   ]
  },
  {
   "cell_type": "markdown",
   "metadata": {},
   "source": [
    "### Define the model"
   ]
  },
  {
   "cell_type": "code",
   "execution_count": 267,
   "metadata": {},
   "outputs": [
    {
     "data": {
      "text/plain": [
       "RandomForestClassifier(bootstrap=True, ccp_alpha=0.0, class_weight=None,\n",
       "                       criterion='gini', max_depth=None, max_features='auto',\n",
       "                       max_leaf_nodes=None, max_samples=None,\n",
       "                       min_impurity_decrease=0.0, min_impurity_split=None,\n",
       "                       min_samples_leaf=1, min_samples_split=2,\n",
       "                       min_weight_fraction_leaf=0.0, n_estimators=100,\n",
       "                       n_jobs=None, oob_score=False, random_state=1, verbose=0,\n",
       "                       warm_start=False)"
      ]
     },
     "execution_count": 267,
     "metadata": {},
     "output_type": "execute_result"
    }
   ],
   "source": [
    "rf = RandomForestClassifier(n_estimators=100, random_state=1)\n",
    "rf.fit(X_train, y_train.ravel())"
   ]
  },
  {
   "cell_type": "code",
   "execution_count": 268,
   "metadata": {},
   "outputs": [],
   "source": [
    "# perform KFold cross validation and record ROC AUC values for each fold\n",
    "cv = KFold(n_splits=10, random_state=1, shuffle=True)\n",
    "results = pd.DataFrame(columns=['training_score', 'test_score'])\n",
    "fprs, tprs, scores, rf_cv_scores = [], [], [], []\n",
    "    \n",
    "for (train, test), i in zip(cv.split(X_train, y_train.ravel()), range(10)):\n",
    "    rf.fit(X_train[train], y_train[train])\n",
    "    _, _, auc_score_train = compute_roc_auc(rf, train)\n",
    "    fpr, tpr, auc_score = compute_roc_auc(rf, test)\n",
    "    scores.append([auc_score_train, auc_score])\n",
    "    rf_cv_scores.append(auc_score)\n",
    "    fprs.append(fpr)\n",
    "    tprs.append(tpr)"
   ]
  },
  {
   "cell_type": "code",
   "execution_count": 269,
   "metadata": {},
   "outputs": [
    {
     "name": "stdout",
     "output_type": "stream",
     "text": [
      "=== Performance Metrics ===\n",
      "Accuracy: 98.11%.\n",
      "Precision: 100.00%\n",
      "Recall: 97.90%\n",
      "F1-score: 98.94%\n",
      "ROC score: 99.67%\n",
      "AUC score: 98.95%\n",
      "\n",
      "=== Classification Report ===\n",
      "              precision    recall  f1-score   support\n",
      "\n",
      "           0       1.00      0.84      0.91        31\n",
      "           1       0.98      1.00      0.99       233\n",
      "\n",
      "    accuracy                           0.98       264\n",
      "   macro avg       0.99      0.92      0.95       264\n",
      "weighted avg       0.98      0.98      0.98       264\n",
      "\n",
      "\n",
      "=== All AUC Scores ===\n",
      "[0.99485931 0.99734043 0.9985348  0.99669148 1.         0.996337\n",
      " 1.         1.         0.99916388 0.99148148]\n",
      "\n",
      "=== Mean AUC Score ===\n",
      "Mean AUC Score - Random Forest:  0.9974408369405608\n",
      "\n",
      "=== STD AUC Score ===\n",
      "STD AUC Score - Random Forest:  0.0026034951246876833\n"
     ]
    }
   ],
   "source": [
    "# Actual class predictions\n",
    "rf_pred = rf.predict(X_test)\n",
    "\n",
    "# compute cv accuracies\n",
    "# train_score = cross_val_score(rf, X_train, y_train.ravel())\n",
    "# print(\"Training score: \",train_score)\n",
    "# test_score = cross_val_score(rf, X_test, y_test.ravel())\n",
    "# print(\"Test score: \", test_score)\n",
    "# print('\\n')\n",
    "rf_accuracies = np.array(rf_cv_scores)\n",
    "\n",
    "# performance metrics\n",
    "rf_accuracy, rf_probabilites = get_performance_metrics(rf, X_test, y_test)\n",
    "\n",
    "print(\"\\n=== Classification Report ===\")\n",
    "print(classification_report(y_test, rf_pred))\n",
    "\n",
    "print(\"\\n=== All AUC Scores ===\")\n",
    "print(rf_accuracies)\n",
    "\n",
    "print(\"\\n=== Mean AUC Score ===\")\n",
    "print(\"Mean AUC Score - Random Forest: \", rf_accuracies.mean())\n",
    "\n",
    "print(\"\\n=== STD AUC Score ===\")\n",
    "print(\"STD AUC Score - Random Forest: \", rf_accuracies.std())"
   ]
  },
  {
   "cell_type": "markdown",
   "metadata": {},
   "source": [
    "### Plot results"
   ]
  },
  {
   "cell_type": "code",
   "execution_count": 270,
   "metadata": {},
   "outputs": [
    {
     "name": "stdout",
     "output_type": "stream",
     "text": [
      "Confusion matrix, without normalization\n",
      "[[ 26   5]\n",
      " [  0 233]]\n",
      "\n",
      "\n",
      "Normalized confusion matrix\n",
      "[[0.83870968 0.16129032]\n",
      " [0.         1.        ]]\n",
      "\n",
      "\n"
     ]
    },
    {
     "data": {
      "image/png": "[encoded data removed]",
      "text/plain": [
       "<Figure size 432x288 with 2 Axes>"
      ]
     },
     "metadata": {
      "needs_background": "light"
     },
     "output_type": "display_data"
    },
    {
     "data": {
      "image/png": "[encoded data removed]",
      "text/plain": [
       "<Figure size 432x288 with 2 Axes>"
      ]
     },
     "metadata": {
      "needs_background": "light"
     },
     "output_type": "display_data"
    }
   ],
   "source": [
    "# Plot confusion matrices\n",
    "plot_confusion(model=rf)"
   ]
  },
  {
   "cell_type": "code",
   "execution_count": 271,
   "metadata": {},
   "outputs": [
    {
     "data": {
      "image/png": "[encoded data removed]",
      "text/plain": [
       "<Figure size 720x432 with 1 Axes>"
      ]
     },
     "metadata": {
      "needs_background": "light"
     },
     "output_type": "display_data"
    },
    {
     "data": {
      "text/html": [
       "<div>\n",
       "<style scoped>\n",
       "    .dataframe tbody tr th:only-of-type {\n",
       "        vertical-align: middle;\n",
       "    }\n",
       "\n",
       "    .dataframe tbody tr th {\n",
       "        vertical-align: top;\n",
       "    }\n",
       "\n",
       "    .dataframe thead th {\n",
       "        text-align: right;\n",
       "    }\n",
       "</style>\n",
       "<table border=\"1\" class=\"dataframe\">\n",
       "  <thead>\n",
       "    <tr style=\"text-align: right;\">\n",
       "      <th></th>\n",
       "      <th>AUC Train</th>\n",
       "      <th>AUC Test</th>\n",
       "    </tr>\n",
       "  </thead>\n",
       "  <tbody>\n",
       "    <tr>\n",
       "      <th>0</th>\n",
       "      <td>1.0</td>\n",
       "      <td>0.994859</td>\n",
       "    </tr>\n",
       "    <tr>\n",
       "      <th>1</th>\n",
       "      <td>1.0</td>\n",
       "      <td>0.997340</td>\n",
       "    </tr>\n",
       "    <tr>\n",
       "      <th>2</th>\n",
       "      <td>1.0</td>\n",
       "      <td>0.998535</td>\n",
       "    </tr>\n",
       "    <tr>\n",
       "      <th>3</th>\n",
       "      <td>1.0</td>\n",
       "      <td>0.996691</td>\n",
       "    </tr>\n",
       "    <tr>\n",
       "      <th>4</th>\n",
       "      <td>1.0</td>\n",
       "      <td>1.000000</td>\n",
       "    </tr>\n",
       "    <tr>\n",
       "      <th>5</th>\n",
       "      <td>1.0</td>\n",
       "      <td>0.996337</td>\n",
       "    </tr>\n",
       "    <tr>\n",
       "      <th>6</th>\n",
       "      <td>1.0</td>\n",
       "      <td>1.000000</td>\n",
       "    </tr>\n",
       "    <tr>\n",
       "      <th>7</th>\n",
       "      <td>1.0</td>\n",
       "      <td>1.000000</td>\n",
       "    </tr>\n",
       "    <tr>\n",
       "      <th>8</th>\n",
       "      <td>1.0</td>\n",
       "      <td>0.999164</td>\n",
       "    </tr>\n",
       "    <tr>\n",
       "      <th>9</th>\n",
       "      <td>1.0</td>\n",
       "      <td>0.991481</td>\n",
       "    </tr>\n",
       "  </tbody>\n",
       "</table>\n",
       "</div>"
      ],
      "text/plain": [
       "   AUC Train  AUC Test\n",
       "0        1.0  0.994859\n",
       "1        1.0  0.997340\n",
       "2        1.0  0.998535\n",
       "3        1.0  0.996691\n",
       "4        1.0  1.000000\n",
       "5        1.0  0.996337\n",
       "6        1.0  1.000000\n",
       "7        1.0  1.000000\n",
       "8        1.0  0.999164\n",
       "9        1.0  0.991481"
      ]
     },
     "execution_count": 271,
     "metadata": {},
     "output_type": "execute_result"
    }
   ],
   "source": [
    "plot_cv_roc_curve(fprs, tprs, model_name=\"RF - Mursalin\");\n",
    "pd.DataFrame(scores, columns=['AUC Train', 'AUC Test'])"
   ]
  },
  {
   "cell_type": "code",
   "execution_count": 272,
   "metadata": {},
   "outputs": [
    {
     "name": "stdout",
     "output_type": "stream",
     "text": [
      "No Skill: ROC AUC=0.500\n",
      "Random Forest: ROC AUC=0.997\n"
     ]
    },
    {
     "data": {
      "image/png": "[encoded data removed]",
      "text/plain": [
       "<Figure size 432x288 with 1 Axes>"
      ]
     },
     "metadata": {
      "needs_background": "light"
     },
     "output_type": "display_data"
    }
   ],
   "source": [
    "# plot ROC curve\n",
    "plot_roc_curve(y_test, probabilities=rf_probabilites, model_name=\"RF - Mursalin\")"
   ]
  },
  {
   "cell_type": "code",
   "execution_count": 82,
   "metadata": {},
   "outputs": [],
   "source": [
    "# fpr, tpr, _ = roc_curve(y_test, rf_pred)\n",
    "# roc_auc = auc(fpr, tpr)\n",
    "# plt.plot(fpr, tpr, label = \"auc = \" + str(roc_auc))\n",
    "# plt.title(\"Area Under Curve Plot\")\n",
    "# plt.show()"
   ]
  },
  {
   "cell_type": "code",
   "execution_count": 83,
   "metadata": {},
   "outputs": [],
   "source": [
    "# plt.figure(figsize=(20,7))\n",
    "# plt.plot(np.arange(len(rf_pred)), rf_pred, label='pred')\n",
    "# plt.plot(np.arange(len(y_test)), y_test, label='actual' )\n",
    "# plt.title('Predicted versus actual labels in the test set')\n",
    "# plt.legend();"
   ]
  },
  {
   "cell_type": "code",
   "execution_count": 84,
   "metadata": {},
   "outputs": [],
   "source": [
    "# plt.figure(figsize=(20,7))\n",
    "# plt.figure(figsize=(20,7))\n",
    "# plt.plot(np.arange(len(rf_probabilites)), rf_probabilites, label='rf_pred_probability')\n",
    "# plt.plot(np.arange(len(y_test)), y_test, label='actual' )\n",
    "# plt.title('Prediction probability versus actual in the test set')\n",
    "# plt.legend()\n",
    "# plt.show()"
   ]
  },
  {
   "cell_type": "markdown",
   "metadata": {},
   "source": [
    "### Discussion\n"
   ]
  },
  {
   "cell_type": "markdown",
   "metadata": {},
   "source": [
    "## Paper #2: Wang et al. (2019)\n",
    "\n",
    "The authors propose an automatic detection framework for epileptic seizure based on multiple time-frequency analysis approaches. Their approach involves a novel random forest(RF) model combined with grid search optimization (GSO). The short-time Fourier transformation visualizes seizure features after normalization. The dimensionality of features is reduced through principal component analysis (PCA) before feeding them into the classification model. The training parameters are optimized using GSO to improve detection performance and diagnostic accuracy by in the recognition of three different levels epileptic of conditions (healthy subjects, seizure-free intervals, seizure activity). \n",
    "\n",
    "\n",
    "The proposed model was used to classify 500 samples of raw EEG data, and multiple cross-validations were adopted to boost the modeling accuracy. Experimental results were evaluated by an accuracy, a confusion matrix, a receiver operating characteristic curve, and an area under the curve.\n",
    "\n",
    "\n",
    "**Dataset and Feature Extraction Methods**\n",
    "\n",
    "Non-invasive EEG data was obtained at Bonn University from 25 patients with medically intractable partial epilepsy.  The datasets were divided into five groups of ictal scalp EEG signals: O, Z, F, N, and S. Each group of data contained a total of 100 samples from 5 subjects. The raw EEG data was recorded using a standard 10–20 system with a sampling frequency of 173. 61 Hz.\n",
    "\n",
    "First, the authors preprocess the collected medical cEEG data, then perform time-frequency (T-F) analysis on the simulated and real data. The frequency features of frequency and statistics of the EEG signals are extracted by short time Fourier transform (STFT), and the reduced features are fed into the random forest model. Comparisons of the results of the different approaches revealed that STFT attained the best effects. The study adopts the PCA method to reduce the dimensionality of the cEEG features. \n",
    "\n",
    "**Random Forest Algorithm Based Grid Search Optimization**\n",
    "\n",
    "The authors feed the extracted features into the novel automatic detection model using 10-fold CV to obtain the three classification categories of seizure, light-seizure and non-seizure. Model is based on the Random forest (RF) by Archer and Kimes, 2008. Data distribution was performed on the data set, including test set, training set, and verification set. It was directly divided into the three categories of healthy people, intermittent epilepsy patients, and continuous epilepsy patients, which were labeled by “−1,” “1,” “0.”\n",
    "\n",
    "In order to improve the classification performance of the random forest algorithm, this paper proposes an improved grid search algorithm to optimize and configure the parameters of the RF model.\n",
    "\n",
    "***GSO***\n",
    "First coarse search hyper-parameters: penalty parameter, min_sample_leaf, max_features, n_estimators. step size:10 Second accurate search: reduce step size, st. min (penalty parameter) is the best group of parameters, step size:0.1.\n",
    "\n",
    "***K-Fold Cross-Validation***\n",
    "To reduce the influence of the selected training data and test data on the model evaluation, k-fold cross validation was used. "
   ]
  },
  {
   "cell_type": "code",
   "execution_count": 176,
   "metadata": {},
   "outputs": [],
   "source": [
    "# hakuna matata\n",
    "rf_gso_model = RandomForestClassifier(n_estimators=65, random_state=42)"
   ]
  },
  {
   "cell_type": "markdown",
   "metadata": {},
   "source": [
    "### Grid Search Optimization (GSO)"
   ]
  },
  {
   "cell_type": "code",
   "execution_count": 177,
   "metadata": {},
   "outputs": [],
   "source": [
    "# grid_param = {\n",
    "#     'n_estimators': [30, 60, 80],\n",
    "#     'max_features': ['auto', 'sqrt'],\n",
    "#     'max_depth': [4,6,8] ,\n",
    "#     'min_samples_split': [2, 5, 10],\n",
    "#     'criterion': ['gini', 'entropy'],\n",
    "#     'bootstrap': [True, False]\n",
    "# }\n",
    "\n",
    "grid_param = {\n",
    "    'n_estimators': [30, 65, 80, 100],\n",
    "    'max_features': ['auto', 'sqrt'],\n",
    "    'min_samples_leaf': [1, 2, 4],\n",
    "    'max_depth' : [5, 10, 20, 100],\n",
    "}\n",
    "\n",
    "        \n",
    "grid_search = GridSearchCV(estimator=rf_gso_model,\n",
    "                     param_grid=grid_param,\n",
    "                     scoring='roc_auc',\n",
    "                     cv=10) \n",
    "# remove njobs=-1 to avoid errors with https://github.com/scikit-learn-contrib/skope-rules/issues/18"
   ]
  },
  {
   "cell_type": "code",
   "execution_count": 178,
   "metadata": {},
   "outputs": [
    {
     "data": {
      "text/plain": [
       "GridSearchCV(cv=10, error_score=nan,\n",
       "             estimator=RandomForestClassifier(bootstrap=True, ccp_alpha=0.0,\n",
       "                                              class_weight=None,\n",
       "                                              criterion='gini', max_depth=None,\n",
       "                                              max_features='auto',\n",
       "                                              max_leaf_nodes=None,\n",
       "                                              max_samples=None,\n",
       "                                              min_impurity_decrease=0.0,\n",
       "                                              min_impurity_split=None,\n",
       "                                              min_samples_leaf=1,\n",
       "                                              min_samples_split=2,\n",
       "                                              min_weight_fraction_leaf=0.0,\n",
       "                                              n_estimators=65, n_jobs=None,\n",
       "                                              oob_score=False, random_state=42,\n",
       "                                              verbose=0, warm_start=False),\n",
       "             iid='deprecated', n_jobs=None,\n",
       "             param_grid={'max_depth': [5, 10, 20, 100],\n",
       "                         'max_features': ['auto', 'sqrt'],\n",
       "                         'min_samples_leaf': [1, 2, 4],\n",
       "                         'n_estimators': [30, 65, 80, 100]},\n",
       "             pre_dispatch='2*n_jobs', refit=True, return_train_score=False,\n",
       "             scoring='roc_auc', verbose=0)"
      ]
     },
     "execution_count": 178,
     "metadata": {},
     "output_type": "execute_result"
    }
   ],
   "source": [
    "# this takes a while!! zvaita\n",
    "grid_search.fit(X_train, y_train.ravel())"
   ]
  },
  {
   "cell_type": "code",
   "execution_count": 179,
   "metadata": {},
   "outputs": [],
   "source": [
    "# best_grid = grid_search.best_estimator_\n",
    "# grid_accuracy = get_performance_metrics(best_grid, X_test, y_test)"
   ]
  },
  {
   "cell_type": "code",
   "execution_count": 180,
   "metadata": {},
   "outputs": [
    {
     "data": {
      "text/plain": [
       "{'max_depth': 10,\n",
       " 'max_features': 'auto',\n",
       " 'min_samples_leaf': 2,\n",
       " 'n_estimators': 65}"
      ]
     },
     "execution_count": 180,
     "metadata": {},
     "output_type": "execute_result"
    }
   ],
   "source": [
    "grid_search.best_params_"
   ]
  },
  {
   "cell_type": "code",
   "execution_count": 181,
   "metadata": {},
   "outputs": [],
   "source": [
    "# train with best params\n",
    "best_rf_gso_model = RandomForestClassifier(max_depth=10, max_features='auto', min_samples_leaf=2, n_estimators=65, random_state=42)\n",
    "# best_rf_gso_model.fit(X_train, y_train)"
   ]
  },
  {
   "cell_type": "code",
   "execution_count": 182,
   "metadata": {},
   "outputs": [],
   "source": [
    "# perform KFold cross validation and record ROC AUC values for each fold\n",
    "cv = KFold(n_splits=10, random_state=1, shuffle=True)\n",
    "results = pd.DataFrame(columns=['training_score', 'test_score'])\n",
    "fprs, tprs, scores, gso_cv_scores = [], [], [], []\n",
    "    \n",
    "for (train, test), i in zip(cv.split(X_train, y_train.ravel()), range(10)):\n",
    "    best_rf_gso_model.fit(X_train[train], y_train[train])\n",
    "    _, _, auc_score_train = compute_roc_auc(best_rf_gso_model, train)\n",
    "    fpr, tpr, auc_score = compute_roc_auc(best_rf_gso_model, test)\n",
    "    scores.append([auc_score_train, auc_score])\n",
    "    gso_cv_scores.append(auc_score)\n",
    "    fprs.append(fpr)\n",
    "    tprs.append(tpr)"
   ]
  },
  {
   "cell_type": "code",
   "execution_count": 183,
   "metadata": {},
   "outputs": [
    {
     "name": "stdout",
     "output_type": "stream",
     "text": [
      "=== Performance Metrics ===\n",
      "Accuracy: 100.00%.\n",
      "Precision: 100.00%\n",
      "Recall: 100.00%\n",
      "F1-score: 100.00%\n",
      "ROC score: 100.00%\n",
      "AUC score: 100.00%\n",
      "\n",
      "=== Classification Report ===\n",
      "              precision    recall  f1-score   support\n",
      "\n",
      "           0       1.00      1.00      1.00        46\n",
      "           1       1.00      1.00      1.00       554\n",
      "\n",
      "    accuracy                           1.00       600\n",
      "   macro avg       1.00      1.00      1.00       600\n",
      "weighted avg       1.00      1.00      1.00       600\n",
      "\n",
      "\n",
      "=== All AUC Scores ===\n",
      "[1.         1.         1.         1.         1.         0.99853801\n",
      " 0.99977273 1.         1.         1.        ]\n",
      "\n",
      "=== Mean AUC Score ===\n",
      "Mean AUC Score - Random Forest:  0.9998310738968634\n",
      "\n",
      "=== STD AUC Score ===\n",
      "STD AUC Score - Random Forest:  0.00043631438329021487\n"
     ]
    }
   ],
   "source": [
    "# Actual class predictions\n",
    "w_best_prediction = best_rf_gso_model.predict(X_test)\n",
    "\n",
    "# compute cv accuracies\n",
    "# best_rf_gso_accuracies = cross_val_score(estimator=best_rf_gso_model, X=X_train, y=y_train, cv=10, scoring='roc_auc')\n",
    "best_rf_gso_accuracies = np.array(gso_cv_scores)\n",
    "\n",
    "# performance metrics\n",
    "w_best_accuracy, w_best_prob = get_performance_metrics(best_rf_gso_model, X_test, y_test)\n",
    "\n",
    "print(\"\\n=== Classification Report ===\")\n",
    "print(classification_report(y_test, w_best_prediction))\n",
    "\n",
    "print(\"\\n=== All AUC Scores ===\")\n",
    "print(best_rf_gso_accuracies)\n",
    "\n",
    "print(\"\\n=== Mean AUC Score ===\")\n",
    "print(\"Mean AUC Score - Random Forest: \", best_rf_gso_accuracies.mean())\n",
    "\n",
    "print(\"\\n=== STD AUC Score ===\")\n",
    "print(\"STD AUC Score - Random Forest: \", best_rf_gso_accuracies.std())"
   ]
  },
  {
   "cell_type": "markdown",
   "metadata": {},
   "source": [
    "### Plot results"
   ]
  },
  {
   "cell_type": "code",
   "execution_count": 184,
   "metadata": {},
   "outputs": [
    {
     "name": "stdout",
     "output_type": "stream",
     "text": [
      "Confusion matrix, without normalization\n",
      "[[ 46   0]\n",
      " [  0 554]]\n",
      "\n",
      "\n",
      "Normalized confusion matrix\n",
      "[[1. 0.]\n",
      " [0. 1.]]\n",
      "\n",
      "\n"
     ]
    },
    {
     "data": {
      "image/png": "[encoded data removed]",
      "text/plain": [
       "<Figure size 432x288 with 2 Axes>"
      ]
     },
     "metadata": {
      "needs_background": "light"
     },
     "output_type": "display_data"
    },
    {
     "data": {
      "image/png": "[encoded data removed]",
      "text/plain": [
       "<Figure size 432x288 with 2 Axes>"
      ]
     },
     "metadata": {
      "needs_background": "light"
     },
     "output_type": "display_data"
    }
   ],
   "source": [
    "# Plot confusion matrices\n",
    "plot_confusion(model=best_rf_gso_model, cm=plt.cm.Greens_r)"
   ]
  },
  {
   "cell_type": "code",
   "execution_count": 185,
   "metadata": {},
   "outputs": [
    {
     "data": {
      "image/png": "[encoded data removed]",
      "text/plain": [
       "<Figure size 720x432 with 1 Axes>"
      ]
     },
     "metadata": {
      "needs_background": "light"
     },
     "output_type": "display_data"
    },
    {
     "data": {
      "text/html": [
       "<div>\n",
       "<style scoped>\n",
       "    .dataframe tbody tr th:only-of-type {\n",
       "        vertical-align: middle;\n",
       "    }\n",
       "\n",
       "    .dataframe tbody tr th {\n",
       "        vertical-align: top;\n",
       "    }\n",
       "\n",
       "    .dataframe thead th {\n",
       "        text-align: right;\n",
       "    }\n",
       "</style>\n",
       "<table border=\"1\" class=\"dataframe\">\n",
       "  <thead>\n",
       "    <tr style=\"text-align: right;\">\n",
       "      <th></th>\n",
       "      <th>AUC Train</th>\n",
       "      <th>AUC Test</th>\n",
       "    </tr>\n",
       "  </thead>\n",
       "  <tbody>\n",
       "    <tr>\n",
       "      <th>0</th>\n",
       "      <td>1.0</td>\n",
       "      <td>1.000000</td>\n",
       "    </tr>\n",
       "    <tr>\n",
       "      <th>1</th>\n",
       "      <td>1.0</td>\n",
       "      <td>1.000000</td>\n",
       "    </tr>\n",
       "    <tr>\n",
       "      <th>2</th>\n",
       "      <td>1.0</td>\n",
       "      <td>1.000000</td>\n",
       "    </tr>\n",
       "    <tr>\n",
       "      <th>3</th>\n",
       "      <td>1.0</td>\n",
       "      <td>1.000000</td>\n",
       "    </tr>\n",
       "    <tr>\n",
       "      <th>4</th>\n",
       "      <td>1.0</td>\n",
       "      <td>1.000000</td>\n",
       "    </tr>\n",
       "    <tr>\n",
       "      <th>5</th>\n",
       "      <td>1.0</td>\n",
       "      <td>0.998538</td>\n",
       "    </tr>\n",
       "    <tr>\n",
       "      <th>6</th>\n",
       "      <td>1.0</td>\n",
       "      <td>0.999773</td>\n",
       "    </tr>\n",
       "    <tr>\n",
       "      <th>7</th>\n",
       "      <td>1.0</td>\n",
       "      <td>1.000000</td>\n",
       "    </tr>\n",
       "    <tr>\n",
       "      <th>8</th>\n",
       "      <td>1.0</td>\n",
       "      <td>1.000000</td>\n",
       "    </tr>\n",
       "    <tr>\n",
       "      <th>9</th>\n",
       "      <td>1.0</td>\n",
       "      <td>1.000000</td>\n",
       "    </tr>\n",
       "  </tbody>\n",
       "</table>\n",
       "</div>"
      ],
      "text/plain": [
       "   AUC Train  AUC Test\n",
       "0        1.0  1.000000\n",
       "1        1.0  1.000000\n",
       "2        1.0  1.000000\n",
       "3        1.0  1.000000\n",
       "4        1.0  1.000000\n",
       "5        1.0  0.998538\n",
       "6        1.0  0.999773\n",
       "7        1.0  1.000000\n",
       "8        1.0  1.000000\n",
       "9        1.0  1.000000"
      ]
     },
     "execution_count": 185,
     "metadata": {},
     "output_type": "execute_result"
    }
   ],
   "source": [
    "# plot CV roc curve for each fold\n",
    "plot_cv_roc_curve(fprs, tprs, model_name=\"Best RF Wang\");\n",
    "pd.DataFrame(scores, columns=['AUC Train', 'AUC Test'])"
   ]
  },
  {
   "cell_type": "code",
   "execution_count": 186,
   "metadata": {},
   "outputs": [
    {
     "name": "stdout",
     "output_type": "stream",
     "text": [
      "No Skill: ROC AUC=0.500\n",
      "Random Forest: ROC AUC=1.000\n"
     ]
    },
    {
     "data": {
      "image/png": "[encoded data removed]",
      "text/plain": [
       "<Figure size 432x288 with 1 Axes>"
      ]
     },
     "metadata": {
      "needs_background": "light"
     },
     "output_type": "display_data"
    }
   ],
   "source": [
    "# plot ROC curve\n",
    "plot_roc_curve(y_test, probabilities=w_best_prob, model_name=\"Best RF Wang\")"
   ]
  },
  {
   "cell_type": "code",
   "execution_count": 79,
   "metadata": {},
   "outputs": [],
   "source": [
    "# plt.figure(figsize=(20,7))\n",
    "# plt.plot(np.arange(len(w_best_prediction)), w_best_prediction, label='best_wang_prediction')\n",
    "# plt.plot(np.arange(len(y_test)), y_test, label='actual' )\n",
    "# plt.title('Predicted versus actual labels in the test set')\n",
    "# plt.legend();"
   ]
  },
  {
   "cell_type": "code",
   "execution_count": 80,
   "metadata": {},
   "outputs": [],
   "source": [
    "# plt.figure(figsize=(20,7))\n",
    "# plt.figure(figsize=(20,7))\n",
    "# plt.plot(np.arange(len(w_best_prob)), w_best_prob, label='best_pred_probability')\n",
    "# plt.plot(np.arange(len(y_test)), y_test, label='actual' )\n",
    "# plt.title('Prediction probability versus actual in the test set')\n",
    "# plt.legend()\n",
    "# plt.show()"
   ]
  },
  {
   "cell_type": "code",
   "execution_count": null,
   "metadata": {},
   "outputs": [],
   "source": []
  },
  {
   "cell_type": "markdown",
   "metadata": {},
   "source": [
    "### Discussion"
   ]
  },
  {
   "cell_type": "markdown",
   "metadata": {},
   "source": [
    "## Other Models Considered\n",
    "* SVM\n",
    "* ExtraTreesClassifier\n",
    "* XGBoost\n",
    "* AdaBoost"
   ]
  },
  {
   "cell_type": "markdown",
   "metadata": {},
   "source": [
    "### Support Vector Machines (SVM)"
   ]
  },
  {
   "cell_type": "code",
   "execution_count": 299,
   "metadata": {},
   "outputs": [
    {
     "data": {
      "text/plain": [
       "SVC(C=1.0, break_ties=False, cache_size=200, class_weight=None, coef0=0.0,\n",
       "    decision_function_shape='ovr', degree=3, gamma='scale', kernel='rbf',\n",
       "    max_iter=-1, probability=True, random_state=None, shrinking=True, tol=0.001,\n",
       "    verbose=False)"
      ]
     },
     "execution_count": 299,
     "metadata": {},
     "output_type": "execute_result"
    }
   ],
   "source": [
    "# fit the model\n",
    "svm_model = SVC(probability=True)\n",
    "svm_model.fit(X_train, y_train.ravel())"
   ]
  },
  {
   "cell_type": "code",
   "execution_count": 300,
   "metadata": {},
   "outputs": [
    {
     "name": "stdout",
     "output_type": "stream",
     "text": [
      "=== Performance Metrics ===\n",
      "Accuracy: 97.81%.\n",
      "Precision: 99.59%\n",
      "Recall: 98.07%\n",
      "F1-score: 98.82%\n",
      "ROC score: 98.81%\n",
      "AUC score: 95.86%\n",
      "\n",
      "=== Classification Report ===\n",
      "              precision    recall  f1-score   support\n",
      "\n",
      "           0       0.94      0.76      0.84        78\n",
      "           1       0.98      1.00      0.99       970\n",
      "\n",
      "    accuracy                           0.98      1048\n",
      "   macro avg       0.96      0.88      0.91      1048\n",
      "weighted avg       0.98      0.98      0.98      1048\n",
      "\n",
      "\n",
      "=== All AUC Scores ===\n",
      "[0.98873801 0.99324281 0.998219   0.99551451 0.96325858 0.98562005\n",
      " 0.99182058 0.99769129 0.98957784 0.99835092]\n",
      "\n",
      "=== Mean AUC Score ===\n",
      "Mean AUC Score - Random Forest:  0.9902033592895295\n",
      "\n",
      "=== STD AUC Score ===\n",
      "STD AUC Score - Random Forest:  0.009880946343890881\n"
     ]
    }
   ],
   "source": [
    "# Actual class predictions\n",
    "svm_pred = svm_model.predict(X_test)\n",
    "\n",
    "# performance metrics\n",
    "svm_accuracy, svm_prob = get_performance_metrics(svm_model, X_test, y_test)\n",
    "\n",
    "# compute cv accuracies\n",
    "svm_accuracies = cross_val_score(estimator=svm_model, X=X_train, y=y_train, cv=10, scoring='roc_auc')\n",
    "\n",
    "print(\"\\n=== Classification Report ===\")\n",
    "print(classification_report(y_test, svm_pred))\n",
    "\n",
    "print(\"\\n=== All AUC Scores ===\")\n",
    "print(svm_accuracies)\n",
    "\n",
    "print(\"\\n=== Mean AUC Score ===\")\n",
    "print(\"Mean AUC Score - Random Forest: \", svm_accuracies.mean())\n",
    "\n",
    "print(\"\\n=== STD AUC Score ===\")\n",
    "print(\"STD AUC Score - Random Forest: \", svm_accuracies.std())"
   ]
  },
  {
   "cell_type": "markdown",
   "metadata": {},
   "source": [
    "### Plot Results: SVM"
   ]
  },
  {
   "cell_type": "code",
   "execution_count": 301,
   "metadata": {},
   "outputs": [
    {
     "name": "stdout",
     "output_type": "stream",
     "text": [
      "Confusion matrix, without normalization\n",
      "[[ 59  19]\n",
      " [  4 966]]\n",
      "\n",
      "\n",
      "Normalized confusion matrix\n",
      "[[0.75641026 0.24358974]\n",
      " [0.00412371 0.99587629]]\n",
      "\n",
      "\n"
     ]
    },
    {
     "data": {
      "image/png": "[encoded data removed]",
      "text/plain": [
       "<Figure size 432x288 with 2 Axes>"
      ]
     },
     "metadata": {
      "needs_background": "light"
     },
     "output_type": "display_data"
    },
    {
     "data": {
      "image/png": "[encoded data removed]",
      "text/plain": [
       "<Figure size 432x288 with 2 Axes>"
      ]
     },
     "metadata": {
      "needs_background": "light"
     },
     "output_type": "display_data"
    }
   ],
   "source": [
    "# Plot confusion matrices\n",
    "plot_confusion(model=svm_model, cm=plt.cm.Reds)"
   ]
  },
  {
   "cell_type": "code",
   "execution_count": 302,
   "metadata": {},
   "outputs": [
    {
     "name": "stdout",
     "output_type": "stream",
     "text": [
      "No Skill: ROC AUC=0.500\n",
      "Random Forest: ROC AUC=0.988\n"
     ]
    },
    {
     "data": {
      "image/png": "[encoded data removed]",
      "text/plain": [
       "<Figure size 432x288 with 1 Axes>"
      ]
     },
     "metadata": {
      "needs_background": "light"
     },
     "output_type": "display_data"
    }
   ],
   "source": [
    "# plot ROC curve\n",
    "plot_roc_curve(y_test, probabilities=svm_prob, model_name=\"SVM\")"
   ]
  },
  {
   "cell_type": "markdown",
   "metadata": {},
   "source": [
    "### ExtraTreesClassifier\n",
    "Improvement to Random Forest"
   ]
  },
  {
   "cell_type": "code",
   "execution_count": 303,
   "metadata": {},
   "outputs": [],
   "source": [
    "# set best params\n",
    "n_estimators=65\n",
    "max_features='auto'"
   ]
  },
  {
   "cell_type": "code",
   "execution_count": 304,
   "metadata": {},
   "outputs": [
    {
     "data": {
      "text/plain": [
       "ExtraTreesClassifier(bootstrap=False, ccp_alpha=0.0, class_weight=None,\n",
       "                     criterion='gini', max_depth=None, max_features='auto',\n",
       "                     max_leaf_nodes=None, max_samples=None,\n",
       "                     min_impurity_decrease=0.0, min_impurity_split=None,\n",
       "                     min_samples_leaf=1, min_samples_split=2,\n",
       "                     min_weight_fraction_leaf=0.0, n_estimators=65, n_jobs=None,\n",
       "                     oob_score=False, random_state=None, verbose=0,\n",
       "                     warm_start=False)"
      ]
     },
     "execution_count": 304,
     "metadata": {},
     "output_type": "execute_result"
    }
   ],
   "source": [
    "etc_model = ExtraTreesClassifier(n_estimators=n_estimators,\n",
    "                max_features=max_features)\n",
    "etc_model.fit(X_train, y_train.ravel())"
   ]
  },
  {
   "cell_type": "code",
   "execution_count": 305,
   "metadata": {},
   "outputs": [
    {
     "name": "stdout",
     "output_type": "stream",
     "text": [
      "=== Performance Metrics ===\n",
      "Accuracy: 98.66%.\n",
      "Precision: 99.59%\n",
      "Recall: 98.98%\n",
      "F1-score: 99.28%\n",
      "ROC score: 99.00%\n",
      "AUC score: 96.71%\n",
      "\n",
      "=== Classification Report ===\n",
      "              precision    recall  f1-score   support\n",
      "\n",
      "           0       0.94      0.87      0.91        78\n",
      "           1       0.99      1.00      0.99       970\n",
      "\n",
      "    accuracy                           0.99      1048\n",
      "   macro avg       0.97      0.93      0.95      1048\n",
      "weighted avg       0.99      0.99      0.99      1048\n",
      "\n",
      "\n",
      "=== All AUC Scores ===\n",
      "[0.99510908 0.99742583 0.99940633 0.99920844 0.99798813 0.99719657\n",
      " 0.99544855 1.         0.98453166 0.99897757]\n",
      "\n",
      "=== Mean AUC Score ===\n",
      "Mean AUC Score - Random Forest:  0.9965292168093185\n",
      "\n",
      "=== STD AUC Score ===\n",
      "STD AUC Score - Random Forest:  0.004289527630741502\n"
     ]
    }
   ],
   "source": [
    "# Actual class predictions\n",
    "etc_pred = etc_model.predict(X_test)\n",
    "\n",
    "# performance metrics\n",
    "etc_accuracy, etc_prob = get_performance_metrics(etc_model, X_test, y_test)\n",
    "\n",
    "# compute cv accuracies\n",
    "etc_accuracies = cross_val_score(estimator=etc_model, X=X_train, y=y_train, cv=10, scoring='roc_auc')\n",
    "\n",
    "print(\"\\n=== Classification Report ===\")\n",
    "print(classification_report(y_test, etc_pred))\n",
    "\n",
    "print(\"\\n=== All AUC Scores ===\")\n",
    "print(etc_accuracies)\n",
    "\n",
    "print(\"\\n=== Mean AUC Score ===\")\n",
    "print(\"Mean AUC Score - Random Forest: \", etc_accuracies.mean())\n",
    "\n",
    "print(\"\\n=== STD AUC Score ===\")\n",
    "print(\"STD AUC Score - Random Forest: \", etc_accuracies.std())"
   ]
  },
  {
   "cell_type": "markdown",
   "metadata": {},
   "source": [
    "### Plot Results: ExtraTreesClassifier"
   ]
  },
  {
   "cell_type": "code",
   "execution_count": 306,
   "metadata": {},
   "outputs": [
    {
     "name": "stdout",
     "output_type": "stream",
     "text": [
      "Confusion matrix, without normalization\n",
      "[[ 68  10]\n",
      " [  4 966]]\n",
      "\n",
      "\n",
      "Normalized confusion matrix\n",
      "[[0.87179487 0.12820513]\n",
      " [0.00412371 0.99587629]]\n",
      "\n",
      "\n"
     ]
    },
    {
     "data": {
      "image/png": "[encoded data removed]",
      "text/plain": [
       "<Figure size 432x288 with 2 Axes>"
      ]
     },
     "metadata": {
      "needs_background": "light"
     },
     "output_type": "display_data"
    },
    {
     "data": {
      "image/png": "[encoded data removed]",
      "text/plain": [
       "<Figure size 432x288 with 2 Axes>"
      ]
     },
     "metadata": {
      "needs_background": "light"
     },
     "output_type": "display_data"
    }
   ],
   "source": [
    "# Plot confusion matrices\n",
    "plot_confusion(model=etc_model, cm=plt.cm.inferno)"
   ]
  },
  {
   "cell_type": "code",
   "execution_count": 307,
   "metadata": {},
   "outputs": [
    {
     "name": "stdout",
     "output_type": "stream",
     "text": [
      "No Skill: ROC AUC=0.500\n",
      "Random Forest: ROC AUC=0.990\n"
     ]
    },
    {
     "data": {
      "image/png": "[encoded data removed]",
      "text/plain": [
       "<Figure size 432x288 with 1 Axes>"
      ]
     },
     "metadata": {
      "needs_background": "light"
     },
     "output_type": "display_data"
    }
   ],
   "source": [
    "# plot ROC curve\n",
    "plot_roc_curve(y_test, probabilities=etc_prob, model_name=\"ExtraTreesClassifier\")"
   ]
  },
  {
   "cell_type": "markdown",
   "metadata": {},
   "source": [
    "### XGBoost Classifier"
   ]
  },
  {
   "cell_type": "code",
   "execution_count": 308,
   "metadata": {},
   "outputs": [],
   "source": [
    "#!conda install -c anaconda py-xgboost"
   ]
  },
  {
   "cell_type": "code",
   "execution_count": 309,
   "metadata": {},
   "outputs": [
    {
     "data": {
      "text/plain": [
       "XGBClassifier(base_score=0.5, booster='gbtree', colsample_bylevel=1,\n",
       "              colsample_bynode=1, colsample_bytree=1, gamma=0,\n",
       "              learning_rate=0.1, max_delta_step=0, max_depth=3,\n",
       "              min_child_weight=1, missing=None, n_estimators=100, n_jobs=1,\n",
       "              nthread=None, objective='binary:logistic', random_state=0,\n",
       "              reg_alpha=0, reg_lambda=1, scale_pos_weight=1, seed=None,\n",
       "              silent=None, subsample=1, verbosity=1)"
      ]
     },
     "execution_count": 309,
     "metadata": {},
     "output_type": "execute_result"
    }
   ],
   "source": [
    "#! This takes a while!\n",
    "xgb_model = XGBClassifier()   \n",
    "xgb_model.fit(X_train, y_train)  "
   ]
  },
  {
   "cell_type": "code",
   "execution_count": 310,
   "metadata": {},
   "outputs": [
    {
     "name": "stdout",
     "output_type": "stream",
     "text": [
      "=== Performance Metrics ===\n",
      "Accuracy: 98.95%.\n",
      "Precision: 99.69%\n",
      "Recall: 99.18%\n",
      "F1-score: 99.43%\n",
      "ROC score: 99.72%\n",
      "AUC score: 97.53%\n",
      "\n",
      "=== Classification Report ===\n",
      "              precision    recall  f1-score   support\n",
      "\n",
      "           0       0.96      0.90      0.93        78\n",
      "           1       0.99      1.00      0.99       970\n",
      "\n",
      "    accuracy                           0.99      1048\n",
      "   macro avg       0.98      0.95      0.96      1048\n",
      "weighted avg       0.99      0.99      0.99      1048\n",
      "\n",
      "\n",
      "=== All AUC Scores ===\n",
      "[0.99504473 0.99781196 0.99927441 0.99914248 0.99155673 0.99960422\n",
      " 0.99386544 1.         0.98951187 0.99854881]\n",
      "\n",
      "=== Mean AUC Score ===\n",
      "Mean AUC Score - XGBClassifier:  0.9964360640967886\n",
      "\n",
      "=== STD AUC Score ===\n",
      "STD AUC Score - XGBClassifier:  0.0035323195392677827\n"
     ]
    }
   ],
   "source": [
    "# Actual class predictions\n",
    "xgb_pred = xgb_model.predict(X_test)\n",
    "\n",
    "# performance metrics\n",
    "xgb_accuracy, xgb_prob = get_performance_metrics(xgb_model, X_test, y_test)\n",
    "\n",
    "# compute cv accuracies\n",
    "xgb_accuracies = cross_val_score(estimator=xgb_model, X=X_train, y=y_train, cv=10, scoring='roc_auc')\n",
    "\n",
    "print(\"\\n=== Classification Report ===\")\n",
    "print(classification_report(y_test, xgb_pred))\n",
    "\n",
    "print(\"\\n=== All AUC Scores ===\")\n",
    "print(xgb_accuracies)\n",
    "\n",
    "print(\"\\n=== Mean AUC Score ===\")\n",
    "print(\"Mean AUC Score - XGBClassifier: \", xgb_accuracies.mean())\n",
    "\n",
    "print(\"\\n=== STD AUC Score ===\")\n",
    "print(\"STD AUC Score - XGBClassifier: \", xgb_accuracies.std())"
   ]
  },
  {
   "cell_type": "code",
   "execution_count": 311,
   "metadata": {},
   "outputs": [],
   "source": [
    "# train_score = cross_val_score(xgb_model, X_train, y_train.ravel())\n",
    "# print(\"Training score: \",train_score)\n",
    "\n",
    "# test_score = cross_val_score(xgb_model, X_test, y_test.ravel())\n",
    "# print(\"Test score: \", test_score)\n",
    "\n",
    "# kfold = KFold(n_splits=10, shuffle=True)\n",
    "# kf_cv_scores = cross_val_score(xgb_model, X_train, y_train.ravel(), cv=kfold )\n",
    "# print(\"K-fold CV average score:\" % kf_cv_scores.mean())\n",
    "\n",
    "# score2 = xgb_model.score(X_test, y_test.ravel())\n",
    "# print(\"Another score: \", score2)"
   ]
  },
  {
   "cell_type": "code",
   "execution_count": 312,
   "metadata": {},
   "outputs": [],
   "source": [
    "# print(kf_cv_scores.mean())"
   ]
  },
  {
   "cell_type": "markdown",
   "metadata": {},
   "source": [
    "### Plot Results: XGB"
   ]
  },
  {
   "cell_type": "code",
   "execution_count": 313,
   "metadata": {},
   "outputs": [
    {
     "name": "stdout",
     "output_type": "stream",
     "text": [
      "Confusion matrix, without normalization\n",
      "[[ 70   8]\n",
      " [  3 967]]\n",
      "\n",
      "\n",
      "Normalized confusion matrix\n",
      "[[0.8974359  0.1025641 ]\n",
      " [0.00309278 0.99690722]]\n",
      "\n",
      "\n"
     ]
    },
    {
     "data": {
      "image/png": "[encoded data removed]",
      "text/plain": [
       "<Figure size 432x288 with 2 Axes>"
      ]
     },
     "metadata": {
      "needs_background": "light"
     },
     "output_type": "display_data"
    },
    {
     "data": {
      "image/png": "[encoded data removed]",
      "text/plain": [
       "<Figure size 432x288 with 2 Axes>"
      ]
     },
     "metadata": {
      "needs_background": "light"
     },
     "output_type": "display_data"
    }
   ],
   "source": [
    "# Plot confusion matrices\n",
    "plot_confusion(model=xgb_model, cm=plt.cm.spring)"
   ]
  },
  {
   "cell_type": "code",
   "execution_count": 314,
   "metadata": {},
   "outputs": [
    {
     "name": "stdout",
     "output_type": "stream",
     "text": [
      "No Skill: ROC AUC=0.500\n",
      "Random Forest: ROC AUC=0.997\n"
     ]
    },
    {
     "data": {
      "image/png": "[encoded data removed]",
      "text/plain": [
       "<Figure size 432x288 with 1 Axes>"
      ]
     },
     "metadata": {
      "needs_background": "light"
     },
     "output_type": "display_data"
    }
   ],
   "source": [
    "# plot ROC curve\n",
    "plot_roc_curve(y_test, probabilities=xgb_prob, model_name=\"XGBoost\")"
   ]
  },
  {
   "cell_type": "markdown",
   "metadata": {},
   "source": [
    "### Adaboost Classifier"
   ]
  },
  {
   "cell_type": "code",
   "execution_count": 315,
   "metadata": {},
   "outputs": [
    {
     "data": {
      "text/plain": [
       "AdaBoostClassifier(algorithm='SAMME',\n",
       "                   base_estimator=DecisionTreeClassifier(ccp_alpha=0.0,\n",
       "                                                         class_weight=None,\n",
       "                                                         criterion='gini',\n",
       "                                                         max_depth=5,\n",
       "                                                         max_features=10,\n",
       "                                                         max_leaf_nodes=None,\n",
       "                                                         min_impurity_decrease=0.0,\n",
       "                                                         min_impurity_split=None,\n",
       "                                                         min_samples_leaf=1,\n",
       "                                                         min_samples_split=2,\n",
       "                                                         min_weight_fraction_leaf=0.0,\n",
       "                                                         presort='deprecated',\n",
       "                                                         random_state=None,\n",
       "                                                         splitter='best'),\n",
       "                   learning_rate=1.0, n_estimators=100, random_state=None)"
      ]
     },
     "execution_count": 315,
     "metadata": {},
     "output_type": "execute_result"
    }
   ],
   "source": [
    "ada_model = AdaBoostClassifier(DecisionTreeClassifier(max_depth=5, max_features=10),\n",
    "                algorithm=\"SAMME\",\n",
    "                n_estimators=100 )\n",
    "ada_model.fit(X_train, y_train.ravel())"
   ]
  },
  {
   "cell_type": "code",
   "execution_count": 316,
   "metadata": {},
   "outputs": [
    {
     "name": "stdout",
     "output_type": "stream",
     "text": [
      "=== Performance Metrics ===\n",
      "Accuracy: 98.85%.\n",
      "Precision: 99.79%\n",
      "Recall: 98.98%\n",
      "F1-score: 99.38%\n",
      "ROC score: 99.69%\n",
      "AUC score: 98.06%\n",
      "\n",
      "=== Classification Report ===\n",
      "              precision    recall  f1-score   support\n",
      "\n",
      "           0       0.97      0.87      0.92        78\n",
      "           1       0.99      1.00      0.99       970\n",
      "\n",
      "    accuracy                           0.99      1048\n",
      "   macro avg       0.98      0.93      0.96      1048\n",
      "weighted avg       0.99      0.99      0.99      1048\n",
      "\n",
      "\n",
      "=== All AUC Scores ===\n",
      "[0.98976768 0.99864856 0.99993404 0.9994723  0.99769129 0.99887863\n",
      " 0.98449868 1.         0.99643799 0.99940633]\n",
      "\n",
      "=== Mean AUC Score ===\n",
      "Mean AUC Score - AdaBoostClassifier:  0.9964735504215199\n",
      "\n",
      "=== STD AUC Score ===\n",
      "STD AUC Score - AdaBoostClassifier:  0.004923107894334566\n"
     ]
    }
   ],
   "source": [
    "# Actual class predictions\n",
    "ada_pred = ada_model.predict(X_test)\n",
    "\n",
    "# performance metrics\n",
    "ada_accuracy, ada_prob = get_performance_metrics(ada_model, X_test, y_test)\n",
    "\n",
    "# compute cv accuracies\n",
    "ada_accuracies = cross_val_score(estimator=ada_model, X=X_train, y=y_train, cv=10, scoring='roc_auc')\n",
    "\n",
    "print(\"\\n=== Classification Report ===\")\n",
    "print(classification_report(y_test, ada_pred))\n",
    "\n",
    "print(\"\\n=== All AUC Scores ===\")\n",
    "print(ada_accuracies)\n",
    "\n",
    "print(\"\\n=== Mean AUC Score ===\")\n",
    "print(\"Mean AUC Score - AdaBoostClassifier: \", ada_accuracies.mean())\n",
    "\n",
    "print(\"\\n=== STD AUC Score ===\")\n",
    "print(\"STD AUC Score - AdaBoostClassifier: \", ada_accuracies.std())"
   ]
  },
  {
   "cell_type": "markdown",
   "metadata": {},
   "source": [
    "### Plot results: ADA"
   ]
  },
  {
   "cell_type": "code",
   "execution_count": 317,
   "metadata": {},
   "outputs": [
    {
     "name": "stdout",
     "output_type": "stream",
     "text": [
      "Confusion matrix, without normalization\n",
      "[[ 68  10]\n",
      " [  2 968]]\n",
      "\n",
      "\n",
      "Normalized confusion matrix\n",
      "[[0.87179487 0.12820513]\n",
      " [0.00206186 0.99793814]]\n",
      "\n",
      "\n"
     ]
    },
    {
     "data": {
      "image/png": "[encoded data removed]",
      "text/plain": [
       "<Figure size 432x288 with 2 Axes>"
      ]
     },
     "metadata": {
      "needs_background": "light"
     },
     "output_type": "display_data"
    },
    {
     "data": {
      "image/png": "[encoded data removed]",
      "text/plain": [
       "<Figure size 432x288 with 2 Axes>"
      ]
     },
     "metadata": {
      "needs_background": "light"
     },
     "output_type": "display_data"
    }
   ],
   "source": [
    "# Plot confusion matrices\n",
    "plot_confusion(model=ada_model, cm=plt.cm.ocean)"
   ]
  },
  {
   "cell_type": "code",
   "execution_count": 318,
   "metadata": {},
   "outputs": [
    {
     "name": "stdout",
     "output_type": "stream",
     "text": [
      "No Skill: ROC AUC=0.500\n",
      "Random Forest: ROC AUC=0.997\n"
     ]
    },
    {
     "data": {
      "image/png": "[encoded data removed]",
      "text/plain": [
       "<Figure size 432x288 with 1 Axes>"
      ]
     },
     "metadata": {
      "needs_background": "light"
     },
     "output_type": "display_data"
    }
   ],
   "source": [
    "# plot ROC curve\n",
    "plot_roc_curve(y_test, probabilities=ada_prob, model_name=\"AdaBoostClassifier\")"
   ]
  },
  {
   "cell_type": "code",
   "execution_count": 319,
   "metadata": {},
   "outputs": [
    {
     "name": "stdout",
     "output_type": "stream",
     "text": [
      "mr dj\n"
     ]
    }
   ],
   "source": [
    "print(\"mr dj\")"
   ]
  },
  {
   "cell_type": "code",
   "execution_count": null,
   "metadata": {},
   "outputs": [],
   "source": []
  }
 ],
 "metadata": {
  "kernelspec": {
   "display_name": "Python 3",
   "language": "python",
   "name": "python3"
  },
  "language_info": {
   "codemirror_mode": {
    "name": "ipython",
    "version": 3
   },
   "file_extension": ".py",
   "mimetype": "text/x-python",
   "name": "python",
   "nbconvert_exporter": "python",
   "pygments_lexer": "ipython3",
   "version": "3.7.4"
  }
 },
 "nbformat": 4,
 "nbformat_minor": 4
}
